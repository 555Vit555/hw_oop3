{
 "cells": [
  {
   "cell_type": "code",
   "execution_count": 168,
   "metadata": {},
   "outputs": [],
   "source": [
    "class recipes:\n",
    "    names = []\n",
    "    ingridiets =[]\n",
    "    ingridiets_s = [[]]\n",
    "    ingr_l = []\n",
    "    names_ingr = ['ingredient_name', 'quantity', 'measure']\n",
    "    cook_book = {}\n",
    "    result = {}  \n",
    "    \n",
    " \n",
    "    with open ('recipes.txt', encoding='utf-8') as r:\n",
    "            lines = r.readlines()\n",
    "            y = 0\n",
    "            k = 0\n",
    "            j = 0\n",
    "            for i in lines:\n",
    "                if j < len(lines):\n",
    "                    names.append(lines[j].replace('\\n',''))\n",
    "                    p = j + 1\n",
    "                    y = 0\n",
    "                    while y < int(lines[j+1]):\n",
    "                            p += 1\n",
    "                            ingridiets.append(lines[p].replace('|',',').replace('\\n',''))\n",
    "                            \n",
    "                            y += 1\n",
    "                        \n",
    "                    ingridiets.append('_')\n",
    "                    \n",
    "                    j = j + 3 + int(lines[j+1])\n",
    "                    k +=1\n",
    "                    \n",
    "                pass\n",
    "            \n",
    "    ingridiets.pop()\n",
    "    for i in ingridiets:\n",
    "                if i == '_':\n",
    "                    ingridiets_s.append([])\n",
    "                else:\n",
    "                    \n",
    "                    ingridiets_s[-1].append(dict(zip(names_ingr,(list(i.split(','))))))\n",
    "                    \n",
    "                \n",
    "    cook_book= dict(zip(names, ingridiets_s))\n",
    "        \n",
    "       \n",
    "        \n",
    "recipe1 = recipes\n",
    "\n"
   ]
  },
  {
   "cell_type": "code",
   "execution_count": 170,
   "metadata": {},
   "outputs": [
    {
     "data": {
      "text/plain": [
       "{'Яйцо ': {'measure': ' шт', 'quantity': 200},\n",
       " 'Молоко ': {'measure': ' мл', 'quantity': 10000},\n",
       " 'Помидор ': {'measure': ' шт', 'quantity': 800},\n",
       " 'Утка ': {'measure': ' шт', 'quantity': 100},\n",
       " 'Вода ': {'measure': ' л', 'quantity': 200},\n",
       " 'Мед ': {'measure': ' ст.л', 'quantity': 300},\n",
       " 'Соевый соус ': {'measure': ' мл', 'quantity': 6000},\n",
       " 'Говядина ': {'measure': ' г', 'quantity': 50000},\n",
       " 'Перец сладкий ': {'measure': ' шт', 'quantity': 100},\n",
       " 'Лаваш ': {'measure': ' шт', 'quantity': 200},\n",
       " 'Винный уксус ': {'measure': ' ст.л', 'quantity': 100}}"
      ]
     },
     "execution_count": 170,
     "metadata": {},
     "output_type": "execute_result"
    }
   ],
   "source": [
    "def get_shop_list_by_dishes(dishes, person_count):\n",
    "    count_ingr = 0\n",
    "    count_list = []    \n",
    "\n",
    "    for dish in dishes:\n",
    "        for name in recipes.cook_book.keys():\n",
    "            if dish == name:\n",
    "                for i in recipes.cook_book.get(name):\n",
    "                    count_list.append(i['ingredient_name'])\n",
    "                    count_ingr = count_list.count(i['ingredient_name'])\n",
    "                    i['quantity'] = int(i.get('quantity')) * person_count * count_ingr\n",
    "                    result.update({i.get('ingredient_name'):{list(i.keys())[2]:i['measure'],list(i.keys())[1]:i['quantity']}})\n",
    "                      \n",
    "                        \n",
    "                    \n",
    "    return result                \n",
    "        \n",
    "get_shop_list_by_dishes(['Омлет', 'Утка по-пекински','Фахитос'], 10)"
   ]
  }
 ],
 "metadata": {
  "kernelspec": {
   "display_name": "Python 3",
   "language": "python",
   "name": "python3"
  },
  "language_info": {
   "codemirror_mode": {
    "name": "ipython",
    "version": 3
   },
   "file_extension": ".py",
   "mimetype": "text/x-python",
   "name": "python",
   "nbconvert_exporter": "python",
   "pygments_lexer": "ipython3",
   "version": "3.11.2"
  },
  "orig_nbformat": 4
 },
 "nbformat": 4,
 "nbformat_minor": 2
}
