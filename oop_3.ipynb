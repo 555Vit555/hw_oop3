{
 "cells": [
  {
   "cell_type": "code",
   "execution_count": 75,
   "metadata": {},
   "outputs": [
    {
     "name": "stdout",
     "output_type": "stream",
     "text": [
      "{'Омлет': [{'ingredient_name': 'Яйцо ', 'quantity': ' 2 ', 'measure': ' шт'}, {'ingredient_name': 'Молоко ', 'quantity': ' 100 ', 'measure': ' мл'}, {'ingredient_name': 'Помидор ', 'quantity': ' 2 ', 'measure': ' шт'}], 'Утка по-пекински': [{'ingredient_name': 'Утка ', 'quantity': ' 1 ', 'measure': ' шт'}, {'ingredient_name': 'Вода ', 'quantity': ' 2 ', 'measure': ' л'}, {'ingredient_name': 'Мед ', 'quantity': ' 3 ', 'measure': ' ст.л'}, {'ingredient_name': 'Соевый соус ', 'quantity': ' 60 ', 'measure': ' мл'}], 'Запеченный картофель': [{'ingredient_name': 'Картофель ', 'quantity': ' 1 ', 'measure': ' кг'}, {'ingredient_name': 'Чеснок ', 'quantity': ' 3 ', 'measure': ' зубч'}, {'ingredient_name': 'Сыр гауда ', 'quantity': ' 100 ', 'measure': ' г'}], 'Фахитос': [{'ingredient_name': 'Говядина ', 'quantity': ' 500 ', 'measure': ' г'}, {'ingredient_name': 'Перец сладкий ', 'quantity': ' 1 ', 'measure': ' шт'}, {'ingredient_name': 'Лаваш ', 'quantity': ' 2 ', 'measure': ' шт'}, {'ingredient_name': 'Винный уксус ', 'quantity': ' 1 ', 'measure': ' ст.л'}, {'ingredient_name': 'Помидор ', 'quantity': ' 2 ', 'measure': ' шт'}]}\n"
     ]
    }
   ],
   "source": [
    "class cook_book:\n",
    "    names = []\n",
    "    ingridiets =[]\n",
    "    ingridiets_s = [[]]\n",
    "    ingr_l = []\n",
    "    j = 0\n",
    "    y = 0\n",
    "    k = 0\n",
    "    names_ingr = ['ingredient_name', 'quantity', 'measure']\n",
    "    with open ('recipes.txt', encoding='utf-8') as r:\n",
    "        lines = r.readlines()\n",
    "        for i in lines:\n",
    "            if j < len(lines):\n",
    "                names.append(lines[j].replace('\\n',''))\n",
    "                p = j + 1\n",
    "                y = 0\n",
    "                while y < int(lines[j+1]):\n",
    "                        p += 1\n",
    "                        ingridiets.append(lines[p].replace('|',',').replace('\\n',''))\n",
    "                        \n",
    "                        y += 1\n",
    "                       \n",
    "                ingridiets.append('_')\n",
    "                 \n",
    "                j = j + 3 + int(lines[j+1])\n",
    "                k +=1\n",
    "                   \n",
    "            pass\n",
    "        \n",
    "        ingridiets.pop()\n",
    "        for i in ingridiets:\n",
    "            if i == '_':\n",
    "                ingridiets_s.append([])\n",
    "            else:\n",
    "                #ingridiets_s[-1].append(i)\n",
    "                ingridiets_s[-1].append(dict(zip(names_ingr,(list(i.split(','))))))\n",
    "                # print(list(i.split(',')))\n",
    "             \n",
    "        cook_book = dict(zip(names, ingridiets_s))\n",
    "    \n",
    "    \n",
    "\n",
    "        "
   ]
  },
  {
   "cell_type": "code",
   "execution_count": null,
   "metadata": {},
   "outputs": [],
   "source": [
    "# из задания\n",
    "#######################################################################################\n",
    "# cook_book = [\n",
    "#   ['салат',\n",
    "#       [\n",
    "#         ['картофель', 100, 'гр.'],\n",
    "#         ['морковь', 50, 'гр.'],\n",
    "#         ['огурцы', 50, 'гр.'],\n",
    "#         ['горошек', 30, 'гр.'],\n",
    "#         ['майонез', 70, 'мл.'],\n",
    "#       ]\n",
    "#   ],\n",
    "#   ['пицца',  \n",
    "#       [\n",
    "#         ['сыр', 50, 'гр.'],\n",
    "#         ['томаты', 50, 'гр.'],\n",
    "#         ['тесто', 100, 'гр.'],\n",
    "#         ['бекон', 30, 'гр.'],\n",
    "#         ['колбаса', 30, 'гр.'],\n",
    "#         ['грибы', 20, 'гр.'],\n",
    "#       ],\n",
    "#   ],\n",
    "#   ['фруктовый десерт',\n",
    "#       [\n",
    "#         ['хурма', 60, 'гр.'],\n",
    "#         ['киви', 60, 'гр.'],\n",
    "#         ['творог', 60, 'гр.'],\n",
    "#         ['сахар', 10, 'гр.'],\n",
    "#         ['мед', 50, 'мл.'],  \n",
    "#       ]\n",
    "#   ]\n",
    "# ]\n",
    "\n",
    "# person = 5\n",
    "#######################################################################################################\n",
    "\n",
    "\n",
    "# for dish, ingredient in cook_book:\n",
    "#   print('\\n' f' {dish}:'.title())\n",
    "#   for product in ingredient:\n",
    "#     print(f\" {product[0]}, {(product[1] * person)} {product[2]}\")"
   ]
  }
 ],
 "metadata": {
  "kernelspec": {
   "display_name": "Python 3",
   "language": "python",
   "name": "python3"
  },
  "language_info": {
   "codemirror_mode": {
    "name": "ipython",
    "version": 3
   },
   "file_extension": ".py",
   "mimetype": "text/x-python",
   "name": "python",
   "nbconvert_exporter": "python",
   "pygments_lexer": "ipython3",
   "version": "3.10.8"
  },
  "orig_nbformat": 4
 },
 "nbformat": 4,
 "nbformat_minor": 2
}
